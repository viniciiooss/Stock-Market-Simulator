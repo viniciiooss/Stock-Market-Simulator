{
 "cells": [
  {
   "cell_type": "code",
   "execution_count": 10,
   "id": "f3592a02-5045-42fa-9cfe-7f5c91414fc3",
   "metadata": {},
   "outputs": [],
   "source": [
    "import pandas as pd\n",
    "from kafka import KafkaProducer\n",
    "from time import sleep\n",
    "from json import dumps\n",
    "import json"
   ]
  },
  {
   "cell_type": "code",
   "execution_count": 11,
   "id": "794b59ad-8317-441c-8381-4291908830cf",
   "metadata": {},
   "outputs": [],
   "source": [
    "producer = KafkaProducer(bootstrap_servers=['3.90.31.172:9092'], #change ip here\n",
    "                         value_serializer=lambda x: \n",
    "                         dumps(x).encode('utf-8'))"
   ]
  },
  {
   "cell_type": "code",
   "execution_count": 12,
   "id": "71b42ecb-8e96-475f-a0f0-c27e344f7efd",
   "metadata": {
    "editable": true,
    "slideshow": {
     "slide_type": ""
    },
    "tags": []
   },
   "outputs": [
    {
     "data": {
      "text/plain": [
       "<kafka.producer.future.FutureRecordMetadata at 0x1151d0080>"
      ]
     },
     "execution_count": 12,
     "metadata": {},
     "output_type": "execute_result"
    }
   ],
   "source": [
    "producer.send('demo_test2', value={'h':'w'})\n"
   ]
  },
  {
   "cell_type": "code",
   "execution_count": 13,
   "id": "5cdcf2a8-4b66-4e5d-b8d1-896e6fbbb946",
   "metadata": {
    "editable": true,
    "slideshow": {
     "slide_type": ""
    },
    "tags": []
   },
   "outputs": [],
   "source": [
    "df = pd.read_csv(\"sp500_data_2021_to_2024.csv\")"
   ]
  },
  {
   "cell_type": "code",
   "execution_count": 14,
   "id": "88232258-2639-4147-8618-f980fab3e860",
   "metadata": {},
   "outputs": [
    {
     "data": {
      "text/html": [
       "<div>\n",
       "<style scoped>\n",
       "    .dataframe tbody tr th:only-of-type {\n",
       "        vertical-align: middle;\n",
       "    }\n",
       "\n",
       "    .dataframe tbody tr th {\n",
       "        vertical-align: top;\n",
       "    }\n",
       "\n",
       "    .dataframe thead th {\n",
       "        text-align: right;\n",
       "    }\n",
       "</style>\n",
       "<table border=\"1\" class=\"dataframe\">\n",
       "  <thead>\n",
       "    <tr style=\"text-align: right;\">\n",
       "      <th></th>\n",
       "      <th>Date</th>\n",
       "      <th>Open</th>\n",
       "      <th>High</th>\n",
       "      <th>Low</th>\n",
       "      <th>Close</th>\n",
       "      <th>Adj Close</th>\n",
       "      <th>Volume</th>\n",
       "    </tr>\n",
       "  </thead>\n",
       "  <tbody>\n",
       "    <tr>\n",
       "      <th>0</th>\n",
       "      <td>2021-01-04</td>\n",
       "      <td>3764.610107</td>\n",
       "      <td>3769.989990</td>\n",
       "      <td>3662.709961</td>\n",
       "      <td>3700.649902</td>\n",
       "      <td>3700.649902</td>\n",
       "      <td>5015000000</td>\n",
       "    </tr>\n",
       "    <tr>\n",
       "      <th>1</th>\n",
       "      <td>2021-01-05</td>\n",
       "      <td>3698.020020</td>\n",
       "      <td>3737.830078</td>\n",
       "      <td>3695.070068</td>\n",
       "      <td>3726.860107</td>\n",
       "      <td>3726.860107</td>\n",
       "      <td>4591020000</td>\n",
       "    </tr>\n",
       "    <tr>\n",
       "      <th>2</th>\n",
       "      <td>2021-01-06</td>\n",
       "      <td>3712.199951</td>\n",
       "      <td>3783.040039</td>\n",
       "      <td>3705.340088</td>\n",
       "      <td>3748.139893</td>\n",
       "      <td>3748.139893</td>\n",
       "      <td>6064110000</td>\n",
       "    </tr>\n",
       "    <tr>\n",
       "      <th>3</th>\n",
       "      <td>2021-01-07</td>\n",
       "      <td>3764.709961</td>\n",
       "      <td>3811.550049</td>\n",
       "      <td>3764.709961</td>\n",
       "      <td>3803.790039</td>\n",
       "      <td>3803.790039</td>\n",
       "      <td>5099160000</td>\n",
       "    </tr>\n",
       "    <tr>\n",
       "      <th>4</th>\n",
       "      <td>2021-01-08</td>\n",
       "      <td>3815.050049</td>\n",
       "      <td>3826.689941</td>\n",
       "      <td>3783.600098</td>\n",
       "      <td>3824.679932</td>\n",
       "      <td>3824.679932</td>\n",
       "      <td>4773040000</td>\n",
       "    </tr>\n",
       "  </tbody>\n",
       "</table>\n",
       "</div>"
      ],
      "text/plain": [
       "         Date         Open         High          Low        Close  \\\n",
       "0  2021-01-04  3764.610107  3769.989990  3662.709961  3700.649902   \n",
       "1  2021-01-05  3698.020020  3737.830078  3695.070068  3726.860107   \n",
       "2  2021-01-06  3712.199951  3783.040039  3705.340088  3748.139893   \n",
       "3  2021-01-07  3764.709961  3811.550049  3764.709961  3803.790039   \n",
       "4  2021-01-08  3815.050049  3826.689941  3783.600098  3824.679932   \n",
       "\n",
       "     Adj Close      Volume  \n",
       "0  3700.649902  5015000000  \n",
       "1  3726.860107  4591020000  \n",
       "2  3748.139893  6064110000  \n",
       "3  3803.790039  5099160000  \n",
       "4  3824.679932  4773040000  "
      ]
     },
     "execution_count": 14,
     "metadata": {},
     "output_type": "execute_result"
    }
   ],
   "source": [
    "df.head()"
   ]
  },
  {
   "cell_type": "code",
   "execution_count": 15,
   "id": "f2da6ab8-e585-4e4f-84a4-d53b31c7cf92",
   "metadata": {},
   "outputs": [
    {
     "data": {
      "text/plain": [
       "{'Date': {136: '2021-07-20'},\n",
       " 'Open': {136: 4265.10986328125},\n",
       " 'High': {136: 4336.83984375},\n",
       " 'Low': {136: 4262.0498046875},\n",
       " 'Close': {136: 4323.06005859375},\n",
       " 'Adj Close': {136: 4323.06005859375},\n",
       " 'Volume': {136: 4438270000}}"
      ]
     },
     "execution_count": 15,
     "metadata": {},
     "output_type": "execute_result"
    }
   ],
   "source": [
    "df.sample(1).to_dict()"
   ]
  },
  {
   "cell_type": "code",
   "execution_count": 1,
   "id": "2a59fa71-c52d-4c1e-a136-a61bdf9d3b76",
   "metadata": {},
   "outputs": [],
   "source": [
    "while True:\n",
    "    dict_stock = df.sample(1).to_dict(orient=\"records\")[0]\n",
    "    producer.send('demo_test2', value=dict_stock)\n",
    "    sleep(1)"
   ]
  },
  {
   "cell_type": "code",
   "execution_count": 20,
   "id": "759cc8d1-0a99-4302-b8cd-c093ff5bde33",
   "metadata": {},
   "outputs": [],
   "source": [
    "producer.flush() #clear data from kafka server"
   ]
  },
  {
   "cell_type": "code",
   "execution_count": null,
   "id": "2819a94f-a058-4183-b364-aa487e15bc08",
   "metadata": {},
   "outputs": [],
   "source": []
  }
 ],
 "metadata": {
  "kernelspec": {
   "display_name": "Python 3 (ipykernel)",
   "language": "python",
   "name": "python3"
  },
  "language_info": {
   "codemirror_mode": {
    "name": "ipython",
    "version": 3
   },
   "file_extension": ".py",
   "mimetype": "text/x-python",
   "name": "python",
   "nbconvert_exporter": "python",
   "pygments_lexer": "ipython3",
   "version": "3.12.4"
  }
 },
 "nbformat": 4,
 "nbformat_minor": 5
}
